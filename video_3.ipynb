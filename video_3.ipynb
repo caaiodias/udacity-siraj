{
 "cells": [
  {
   "cell_type": "code",
   "execution_count": 1,
   "metadata": {},
   "outputs": [
    {
     "ename": "ModuleNotFoundError",
     "evalue": "No module named 'lightfm'",
     "output_type": "error",
     "traceback": [
      "\u001b[1;31m---------------------------------------------------------------------------\u001b[0m",
      "\u001b[1;31mModuleNotFoundError\u001b[0m                       Traceback (most recent call last)",
      "\u001b[1;32m<ipython-input-1-4479a0c0a31e>\u001b[0m in \u001b[0;36m<module>\u001b[1;34m()\u001b[0m\n\u001b[0;32m      2\u001b[0m \u001b[1;31m#from lightfm.datasets import fetch_movielens\u001b[0m\u001b[1;33m\u001b[0m\u001b[1;33m\u001b[0m\u001b[0m\n\u001b[0;32m      3\u001b[0m \u001b[1;31m#from lightfm import LightFM\u001b[0m\u001b[1;33m\u001b[0m\u001b[1;33m\u001b[0m\u001b[0m\n\u001b[1;32m----> 4\u001b[1;33m \u001b[1;32mimport\u001b[0m \u001b[0mlightfm\u001b[0m\u001b[1;33m\u001b[0m\u001b[0m\n\u001b[0m\u001b[0;32m      5\u001b[0m \u001b[1;33m\u001b[0m\u001b[0m\n\u001b[0;32m      6\u001b[0m \u001b[0mdata\u001b[0m \u001b[1;33m=\u001b[0m \u001b[0mfetch_movielens\u001b[0m\u001b[1;33m(\u001b[0m\u001b[0mmin_rating\u001b[0m\u001b[1;33m=\u001b[0m\u001b[1;36m4.0\u001b[0m\u001b[1;33m)\u001b[0m\u001b[1;33m\u001b[0m\u001b[0m\n",
      "\u001b[1;31mModuleNotFoundError\u001b[0m: No module named 'lightfm'"
     ]
    }
   ],
   "source": [
    "import numpy as np\n",
    "#from lightfm.datasets import fetch_movielens\n",
    "#from lightfm import LightFM\n",
    "import lightfm \n",
    "\n",
    "data = fetch_movielens(min_rating=4.0)\n",
    "\n",
    "print(repr(data['train']))\n",
    "print(repr(data['test']))\n",
    "\n",
    "model = LightFM(loss='warp')\n",
    "\n",
    "model.fit(data['train'], epochs=30, num_threads=2)\n",
    "\n",
    "def sample_recommendation(model, data, user_ids):\n",
    "    \n",
    "    n_users, n_items= data['train'].snape\n",
    "    \n",
    "    for user_id in user_ids:\n",
    "        \n",
    "        known_positives= data['item_labels'][data['train'].tocsr()[user_id].indices]\n",
    "        \n",
    "        scores = model.predict(user_id, np.arange(n_items))\n",
    "        \n",
    "        top_items = data['items_labels'][np.argsort(-scores)]\n",
    "        \n",
    "        print(\"users %s\" % user_id)\n",
    "        print(\" known positive:\")\n",
    "        \n",
    "        for x in known_positives[:3]:\n",
    "            print(\"     %s\" %x)\n",
    "        print(\"Recommended: \")\n",
    "        for x in top_items[:3]:\n",
    "            print(\"     %s\" %x)\n",
    "    sample_recommendation(model, data, [3, 25, 450])"
   ]
  },
  {
   "cell_type": "code",
   "execution_count": null,
   "metadata": {},
   "outputs": [],
   "source": []
  }
 ],
 "metadata": {
  "kernelspec": {
   "display_name": "Python 3",
   "language": "python",
   "name": "python3"
  }
 },
 "nbformat": 4,
 "nbformat_minor": 2
}
